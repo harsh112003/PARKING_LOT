{
  "nbformat": 4,
  "nbformat_minor": 0,
  "metadata": {
    "colab": {
      "provenance": [],
      "authorship_tag": "ABX9TyNM/d88wWGgJpQiRtkJ9K64",
      "include_colab_link": true
    },
    "kernelspec": {
      "name": "python3",
      "display_name": "Python 3"
    },
    "language_info": {
      "name": "python"
    }
  },
  "cells": [
    {
      "cell_type": "markdown",
      "metadata": {
        "id": "view-in-github",
        "colab_type": "text"
      },
      "source": [
        "<a href=\"https://colab.research.google.com/github/harsh112003/PARKING_LOT/blob/main/Inheritance_pakinglot.ipynb\" target=\"_parent\"><img src=\"https://colab.research.google.com/assets/colab-badge.svg\" alt=\"Open In Colab\"/></a>"
      ]
    },
    {
      "cell_type": "code",
      "source": [
        "cti"
      ],
      "metadata": {
        "id": "q09ySjHsrmXf"
      },
      "execution_count": null,
      "outputs": []
    },
    {
      "cell_type": "code",
      "execution_count": null,
      "metadata": {
        "colab": {
          "base_uri": "https://localhost:8080/"
        },
        "id": "8CQFI6kaPLOw",
        "outputId": "2bf672c3-3947-44a4-b6c5-c2627261a02f"
      },
      "outputs": [
        {
          "output_type": "stream",
          "name": "stdout",
          "text": [
            "\n",
            "Cars parked before release:\n",
            "parked successfully DL0001 pradeep\n",
            "parked successfully DL0002 raks\n",
            "parked successfully DL0003 ram\n",
            "parked successfully DL0004 abc\n",
            "parked successfully DL0005 xyz\n",
            "car with plate number DL0001 released and fee= 300.000193\n",
            "car with plate number DL0002 released and fee= 200.0001993333333\n",
            "parked successfully DL0003 ram\n",
            "parked successfully DL0004 abc\n",
            "parked successfully DL0005 xyz\n"
          ]
        }
      ],
      "source": [
        "import datetime\n",
        "from datetime import datetime, timedelta\n",
        "import time\n",
        "from time import sleep\n",
        "class Car:\n",
        "  def __init__(self,number_plate,owner_name):\n",
        "    self.number_plate = number_plate\n",
        "    self.owner_name = owner_name\n",
        "\n",
        "class parking_ticket(Car):\n",
        "  def __init__(self,car1,entry_time1):\n",
        "    self.car = car1\n",
        "    self.entry_time = entry_time1\n",
        "    self.exit_time = None\n",
        "    self.fee=0\n",
        "\n",
        "  def calculate_fee(self):\n",
        "    self.exit_time = datetime.now()\n",
        "    duration = self.exit_time - self.entry_time\n",
        "    minutes = duration.total_seconds()/60\n",
        "    self.fee = minutes * 20\n",
        "    return self.fee\n",
        "\n",
        "class parking_lot:\n",
        "  def __init__(self,capacity):\n",
        "    self.capacity = capacity\n",
        "    self.parked_cars = {} #No.Plate:ParkingTicket===dl01 : ticket1\n",
        "\n",
        "  def park_car(self,car,minutes_ago=0):\n",
        "    if len(self.parked_cars) >= self.capacity:\n",
        "      print(\"parking full\")\n",
        "    else :\n",
        "      entry_time=datetime.now() - timedelta(minutes=minutes_ago)\n",
        "      #ticket = parking_ticket(car,datetime.now())\n",
        "      ticket = parking_ticket(car,entry_time)\n",
        "      self.parked_cars[car.number_plate] = ticket #adding item in dict\n",
        "  def display(self):\n",
        "      for k,v in self.parked_cars.items():\n",
        "        print(\"parked successfully\",k,v.car.owner_name)\n",
        "      #print(\"car parked\", self.parked_cars)\n",
        "\n",
        "  def release_car(self,plate_number):\n",
        "    ticket=self.parked_cars.pop(plate_number)\n",
        "    ticket.calculate_fee()\n",
        "    #print(\"car released and fee=\",ticket.fee)\n",
        "    print(\"car with plate number\", plate_number, \"released and fee=\",ticket.fee)\n",
        "\n",
        "#object\n",
        "car1= Car(\"DL0001\",\"pradeep\")\n",
        "car2= Car(\"DL0002\",\"raks\")\n",
        "car3= Car(\"DL0003\",\"ram\")\n",
        "car4= Car(\"DL0004\",\"abc\")\n",
        "car5= Car(\"DL0005\",\"xyz\")\n",
        "\n",
        "\n",
        "'''p1=parking_ticket(car1,datetime.now())\n",
        "p2=parking_ticket(car2,datetime.now())\n",
        "p3=parking_ticket(car3,datetime.now())\n",
        "p4=parking_ticket(car4,datetime.now())\n",
        "p5=parking_ticket(car5,datetime.now())'''\n",
        "\n",
        "\n",
        "#main\n",
        "PL=parking_lot(5)\n",
        "'''PL.park_car(car1)\n",
        "PL.park_car(car2)\n",
        "PL.park_car(car3)\n",
        "PL.park_car(car4)\n",
        "PL.park_car(car5)'''\n",
        "PL.display()\n",
        "\n",
        "# Park cars (simulating they came in at different times)\n",
        "PL.park_car(car1, minutes_ago=15)\n",
        "PL.park_car(car2, minutes_ago=10)\n",
        "PL.park_car(car3, minutes_ago=8)\n",
        "PL.park_car(car4, minutes_ago=5)\n",
        "PL.park_car(car5, minutes_ago=2)\n",
        "\n",
        "# Display parked cars before releasing\n",
        "print(\"\\nCars parked before release:\")\n",
        "PL.display()\n",
        "\n",
        "releasecar1=PL.release_car(\"DL0001\")\n",
        "\n",
        "releasecar2=PL.release_car(\"DL0002\")\n",
        "PL.display()"
      ]
    },
    {
      "cell_type": "code",
      "source": [],
      "metadata": {
        "id": "ClzWEtHOIKhw"
      },
      "execution_count": null,
      "outputs": []
    }
  ]
}